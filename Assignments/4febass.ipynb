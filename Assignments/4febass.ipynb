{
 "cells": [
  {
   "cell_type": "markdown",
   "id": "76d194d7-3d3d-4c2b-9dd1-083063596a5a",
   "metadata": {},
   "source": [
    "Q1. Sort the given list of tuples based on the integer value using a lambda function."
   ]
  },
  {
   "cell_type": "code",
   "execution_count": 1,
   "id": "e4ace846-0731-4bbd-b5a2-22b6bf3a134a",
   "metadata": {},
   "outputs": [
    {
     "name": "stdout",
     "output_type": "stream",
     "text": [
      "[('Virat Kohli', 24936), ('Jack Kallis', 25534), ('Ricky Ponting', 27483), ('Sachin Tendulkar', 34357)]\n"
     ]
    }
   ],
   "source": [
    "# Given list of tuples\n",
    "players = [('Sachin Tendulkar', 34357), ('Ricky Ponting', 27483), ('Jack Kallis', 25534), ('Virat Kohli', 24936)]\n",
    "\n",
    "# Sorting using lambda\n",
    "sorted_players = sorted(players, key=lambda x: x[1])\n",
    "\n",
    "print(sorted_players)"
   ]
  },
  {
   "cell_type": "markdown",
   "id": "c77b2912-0983-42de-bddb-cf832bb274c0",
   "metadata": {},
   "source": [
    "Q2. Find the squares of all the numbers in the given list using lambda and map."
   ]
  },
  {
   "cell_type": "code",
   "execution_count": 2,
   "id": "dc640c66-f37d-4889-bfc6-11eec1fc1ebc",
   "metadata": {},
   "outputs": [
    {
     "name": "stdout",
     "output_type": "stream",
     "text": [
      "[1, 4, 9, 16, 25, 36, 49, 64, 81, 100]\n"
     ]
    }
   ],
   "source": [
    "# Given list\n",
    "numbers = [1, 2, 3, 4, 5, 6, 7, 8, 9, 10]\n",
    "\n",
    "# Using map and lambda\n",
    "squares = list(map(lambda x: x**2, numbers))\n",
    "\n",
    "print(squares)"
   ]
  },
  {
   "cell_type": "markdown",
   "id": "a30c4f5e-26e7-4396-8ad5-9cd0f1d31466",
   "metadata": {},
   "source": [
    "Q3. Convert the given list of integers into a tuple of strings using map and lambda."
   ]
  },
  {
   "cell_type": "code",
   "execution_count": null,
   "id": "4257a636-02ef-4bd1-a58c-d459a4545d23",
   "metadata": {},
   "outputs": [],
   "source": []
  }
 ],
 "metadata": {
  "kernelspec": {
   "display_name": "Python 3 (ipykernel)",
   "language": "python",
   "name": "python3"
  },
  "language_info": {
   "codemirror_mode": {
    "name": "ipython",
    "version": 3
   },
   "file_extension": ".py",
   "mimetype": "text/x-python",
   "name": "python",
   "nbconvert_exporter": "python",
   "pygments_lexer": "ipython3",
   "version": "3.12.7"
  }
 },
 "nbformat": 4,
 "nbformat_minor": 5
}
