{
 "cells": [
  {
   "cell_type": "markdown",
   "id": "b7cb4ea1-60de-4724-93cd-ff06048b5807",
   "metadata": {},
   "source": [
    "Q1. What are the characteristics of the tuples? Is tuple immutable?"
   ]
  },
  {
   "cell_type": "markdown",
   "id": "e592d575-ce8e-4f16-8244-3bc1ac7704d5",
   "metadata": {},
   "source": [
    "Answer:\n",
    "\n",
    "Tuples are ordered collections of items, meaning the order of elements is preserved.\n",
    "Tuples can store heterogeneous data types (e.g., integers, strings, floats, etc.).\n",
    "Tuples are immutable, which means their elements cannot be changed after creation.\n",
    "Tuples allow duplicate elements."
   ]
  },
  {
   "cell_type": "code",
   "execution_count": 1,
   "id": "3b25db4a-cbc3-4972-9707-d06c1107ba68",
   "metadata": {},
   "outputs": [
    {
     "name": "stdout",
     "output_type": "stream",
     "text": [
      "Tuple: (1, 2, 3, 4, 4)\n"
     ]
    }
   ],
   "source": [
    "# Creating a tuple\n",
    "my_tuple = (1, 2, 3, 4, 4)\n",
    "print(\"Tuple:\", my_tuple)"
   ]
  },
  {
   "cell_type": "markdown",
   "id": "232c975c-5e87-4f83-82ac-7a686906e51a",
   "metadata": {},
   "source": [
    "Q2. What are the two tuple methods in Python? Give an example of each method."
   ]
  },
  {
   "cell_type": "markdown",
   "id": "2aea27de-c65a-4061-8030-f0b36e88e02f",
   "metadata": {},
   "source": [
    "Answer:\n",
    "\n",
    "count(): Returns the number of occurrences of a specified value in the tuple.\n",
    "index(): Returns the index of the first occurrence of a specified value in the tuple.\n",
    "Reason why tuples have only two methods: Tuples are immutable, so operations that would modify the structure (e.g., append, remove) are not applicable. Thus, they only have methods related to querying information."
   ]
  },
  {
   "cell_type": "code",
   "execution_count": 2,
   "id": "470fc58c-35e7-4c26-b8c8-96334ba9d00d",
   "metadata": {},
   "outputs": [
    {
     "name": "stdout",
     "output_type": "stream",
     "text": [
      "Count of 2: 2\n",
      "Index of first occurrence of 4: 3\n"
     ]
    }
   ],
   "source": [
    "# Tuple example\n",
    "my_tuple = (1, 2, 3, 4, 4, 2, 1)\n",
    "\n",
    "# Using count()\n",
    "print(\"Count of 2:\", my_tuple.count(2))\n",
    "\n",
    "# Using index()\n",
    "print(\"Index of first occurrence of 4:\", my_tuple.index(4))"
   ]
  },
  {
   "cell_type": "markdown",
   "id": "7abc6389-374c-4a1e-a4df-529411dacc68",
   "metadata": {},
   "source": [
    "Q3. Which collection datatypes in Python do not allow duplicate items?"
   ]
  },
  {
   "cell_type": "markdown",
   "id": "c89aa7a7-f30f-4837-912e-a0f24325f8b4",
   "metadata": {},
   "source": [
    "Answer: Sets do not allow duplicate items."
   ]
  },
  {
   "cell_type": "code",
   "execution_count": 4,
   "id": "4234c10c-b87d-45b6-b432-d2da46408ae7",
   "metadata": {},
   "outputs": [
    {
     "name": "stdout",
     "output_type": "stream",
     "text": [
      "Unique items: [1, 2, 3, 4]\n"
     ]
    }
   ],
   "source": [
    "# Given list\n",
    "my_list = [1, 1, 1, 2, 1, 3, 1, 4, 2, 1, 2, 2, 2, 3, 2, 4, 3, 1, 3, 2, 3, 3, 3, 4, 4, 1, 4, 2, 4, 3, 4, 4]\n",
    "\n",
    "# Removing duplicates using set\n",
    "unique_items = list(set(my_list))\n",
    "print(\"Unique items:\", unique_items)"
   ]
  },
  {
   "cell_type": "markdown",
   "id": "a113735f-314c-4b0c-8bcd-81fd3f624819",
   "metadata": {},
   "source": [
    "Q4. Explain the difference between the union() and update() methods for a set."
   ]
  },
  {
   "cell_type": "markdown",
   "id": "f0e71830-7753-4d03-a966-a3e1bf12289f",
   "metadata": {},
   "source": [
    "Answer:\n",
    "\n",
    "union(): Returns a new set that contains all elements from both sets without modifying the original set(s).\n",
    "update(): Adds all elements from another set to the current set (modifies the original set)."
   ]
  },
  {
   "cell_type": "code",
   "execution_count": 6,
   "id": "7df9ee22-626b-4c8b-88e9-22a37bf8fe34",
   "metadata": {},
   "outputs": [
    {
     "name": "stdout",
     "output_type": "stream",
     "text": [
      "Union: {1, 2, 3, 4, 5}\n",
      "Updated set1: {1, 2, 3, 4, 5}\n"
     ]
    }
   ],
   "source": [
    "# Example of union()\n",
    "set1 = {1, 2, 3}\n",
    "set2 = {3, 4, 5}\n",
    "union_set = set1.union(set2)\n",
    "print(\"Union:\", union_set)  # Returns a new set\n",
    "\n",
    "# Example of update()\n",
    "set1.update(set2)\n",
    "print(\"Updated set1:\", set1)  # Modifies set1"
   ]
  },
  {
   "cell_type": "markdown",
   "id": "54cf9358-1c1f-4b88-bed8-af13f94cc4cc",
   "metadata": {},
   "source": [
    "Q5. What is a dictionary? Is it ordered or unordered?"
   ]
  },
  {
   "cell_type": "markdown",
   "id": "d39dfcd3-83d4-4239-9070-2f37e4774428",
   "metadata": {},
   "source": [
    "Answer: A dictionary is a collection of key-value pairs where keys are unique and immutable. Dictionaries are ordered in Python 3.7 and later."
   ]
  },
  {
   "cell_type": "code",
   "execution_count": 7,
   "id": "ae5dfc98-3b2b-4e65-9fde-8901d8d70145",
   "metadata": {},
   "outputs": [
    {
     "name": "stdout",
     "output_type": "stream",
     "text": [
      "Dictionary: {'name': 'Alice', 'age': 25}\n"
     ]
    }
   ],
   "source": [
    "# Example of a dictionary\n",
    "my_dict = {\"name\": \"Alice\", \"age\": 25}\n",
    "print(\"Dictionary:\", my_dict)"
   ]
  },
  {
   "cell_type": "markdown",
   "id": "8a695ff8-f038-4fa6-b9e2-fe0ab96c7e91",
   "metadata": {},
   "source": [
    "Q6. Can we create a nested dictionary?"
   ]
  },
  {
   "cell_type": "markdown",
   "id": "45c84a36-fbed-4322-aaae-4956cea82207",
   "metadata": {},
   "source": [
    "Answer: Yes, we can create nested dictionaries."
   ]
  },
  {
   "cell_type": "code",
   "execution_count": 8,
   "id": "d4f2d7dc-1d90-4c82-92e9-642c62735abd",
   "metadata": {},
   "outputs": [
    {
     "name": "stdout",
     "output_type": "stream",
     "text": [
      "Nested Dictionary: {'person1': {'name': 'Alice', 'age': 25}, 'person2': {'name': 'Bob', 'age': 30}}\n"
     ]
    }
   ],
   "source": [
    "# Nested dictionary\n",
    "nested_dict = {\n",
    "    \"person1\": {\"name\": \"Alice\", \"age\": 25},\n",
    "    \"person2\": {\"name\": \"Bob\", \"age\": 30}\n",
    "}\n",
    "print(\"Nested Dictionary:\", nested_dict)"
   ]
  },
  {
   "cell_type": "markdown",
   "id": "915ddeed-cf6a-4be9-bd06-4b57c2c6890c",
   "metadata": {},
   "source": [
    "Q7. Using setdefault() method to add a new key-value pair."
   ]
  },
  {
   "cell_type": "code",
   "execution_count": 9,
   "id": "9d730aba-b510-4f8e-8860-27484510139d",
   "metadata": {},
   "outputs": [
    {
     "name": "stdout",
     "output_type": "stream",
     "text": [
      "Updated dictionary: {'language': 'Python', 'course': 'Data Science Masters', 'topics': ['Python', 'Machine Learning', 'Deep Learning']}\n"
     ]
    }
   ],
   "source": [
    "# Given dictionary\n",
    "dict1 = {'language': 'Python', 'course': 'Data Science Masters'}\n",
    "\n",
    "# Using setdefault() to add a new key\n",
    "dict1.setdefault('topics', ['Python', 'Machine Learning', 'Deep Learning'])\n",
    "print(\"Updated dictionary:\", dict1)"
   ]
  },
  {
   "cell_type": "markdown",
   "id": "b9397c98-178e-42c8-8287-0e478fdb6fcd",
   "metadata": {},
   "source": [
    "Q8. What are the three view objects in dictionaries?"
   ]
  },
  {
   "cell_type": "markdown",
   "id": "cba98d1a-aede-4ba6-b3d3-d895260b0f98",
   "metadata": {},
   "source": [
    "Answer: The three view objects in dictionaries are:\n",
    "\n",
    "dict.keys(): Displays all keys.\n",
    "dict.values(): Displays all values.\n",
    "dict.items(): Displays all key-value pairs."
   ]
  },
  {
   "cell_type": "code",
   "execution_count": 11,
   "id": "5171b006-0a86-4545-bdc7-e3fd61c0ae59",
   "metadata": {},
   "outputs": [
    {
     "name": "stdout",
     "output_type": "stream",
     "text": [
      "Keys: dict_keys(['Sport', 'Teams'])\n",
      "Values: dict_values(['Cricket', ['India', 'Australia', 'England', 'South Africa', 'Sri Lanka', 'New Zealand']])\n",
      "Items: dict_items([('Sport', 'Cricket'), ('Teams', ['India', 'Australia', 'England', 'South Africa', 'Sri Lanka', 'New Zealand'])])\n"
     ]
    }
   ],
   "source": [
    "# Given dictionary\n",
    "dict1 = {'Sport': 'Cricket', 'Teams': ['India', 'Australia', 'England', 'South Africa', 'Sri Lanka', 'New Zealand']}\n",
    "\n",
    "# Keys view\n",
    "print(\"Keys:\", dict1.keys())\n",
    "\n",
    "# Values view\n",
    "print(\"Values:\", dict1.values())\n",
    "\n",
    "# Items view\n",
    "print(\"Items:\", dict1.items())\n"
   ]
  },
  {
   "cell_type": "code",
   "execution_count": null,
   "id": "e2026d34-0130-427c-9907-a3727f49a737",
   "metadata": {},
   "outputs": [],
   "source": []
  }
 ],
 "metadata": {
  "kernelspec": {
   "display_name": "Python 3 (ipykernel)",
   "language": "python",
   "name": "python3"
  },
  "language_info": {
   "codemirror_mode": {
    "name": "ipython",
    "version": 3
   },
   "file_extension": ".py",
   "mimetype": "text/x-python",
   "name": "python",
   "nbconvert_exporter": "python",
   "pygments_lexer": "ipython3",
   "version": "3.12.7"
  }
 },
 "nbformat": 4,
 "nbformat_minor": 5
}
