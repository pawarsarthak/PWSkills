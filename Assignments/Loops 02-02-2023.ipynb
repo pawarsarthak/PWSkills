{
 "cells": [
  {
   "cell_type": "code",
   "execution_count": 5,
   "id": "1f42057a-1a99-4b56-92ff-e76356ca132b",
   "metadata": {},
   "outputs": [
    {
     "name": "stdout",
     "output_type": "stream",
     "text": [
      "1\n",
      "2\n",
      "3\n",
      "4\n",
      "5\n",
      "1 2 3 4 5 "
     ]
    }
   ],
   "source": [
    "# Q1. Explain with an example each when to use a for loop and a while loop.\n",
    "\n",
    "# For loop is used to perform operations on iterables. Basically for loops works on index.\n",
    "\n",
    "# For loop example :\n",
    "for i in [1,2,3,4,5]:\n",
    "        print(i)\n",
    "        \n",
    "        \n",
    "# While loop is used with condition and it works till condition is true. while loop have basically 3 steps such as initialization, condition, increment.\n",
    "\n",
    "# While loop example :\n",
    "i = 1    #initilization\n",
    "while (i<=5):     #condition\n",
    "    print(i,end = ' ')\n",
    "    i = i+1    #increment"
   ]
  },
  {
   "cell_type": "code",
   "execution_count": 10,
   "id": "400663d7-8113-4d4f-b00f-2b0c166bdde9",
   "metadata": {},
   "outputs": [
    {
     "name": "stdout",
     "output_type": "stream",
     "text": [
      "sum of first 10 numbers is 55\n",
      "multiplication of first 10 numbers is 3628800\n"
     ]
    }
   ],
   "source": [
    "# Q2. Write a python program to print the sum and product of the first 10 natural numbers using for and while loop.\n",
    "\n",
    "multiplication = 1\n",
    "sum1=  0\n",
    "i = 1\n",
    "while(i<=10):\n",
    "    sum1 = sum1 + i\n",
    "    multiplication = multiplication * i\n",
    "    i+=1\n",
    "print('sum of first 10 numbers is',sum1)\n",
    "print('multiplication of first 10 numbers is',multiplication)\n"
   ]
  },
  {
   "cell_type": "code",
   "execution_count": 17,
   "id": "60a5bf00-47cf-48d9-8837-951bb882eb1f",
   "metadata": {},
   "outputs": [
    {
     "name": "stdin",
     "output_type": "stream",
     "text": [
      "Enter total units of electricity consumed in a month 310\n"
     ]
    },
    {
     "name": "stdout",
     "output_type": "stream",
     "text": [
      "Total bill :  2250.0\n"
     ]
    }
   ],
   "source": [
    "# Q3. Create a python program to compute the electricity bill for a household. The per-unit charges in rupees are as follows: For the first 100 units, the user will be charged Rs. 4.5 per unit, for the next 100 units, the user will be charged Rs. 6 per unit, and for the next 100 units, the user will be charged Rs. 10 per unit, After 300 units and above the user will be charged Rs. 20 per unit. You are required to take the units of electricity consumed in a month from the user as input. Your program must pass this test case: when the unit of electricity consumed by the user in a month is 310, the total electricity bill should be 2250.\n",
    "\n",
    "units = int(input('Enter total units of electricity consumed in a month'))\n",
    "\n",
    "if (units<=100):\n",
    "    bill = units * 4.5\n",
    "elif (units>100 and units<=200):\n",
    "    bill = 100 * 4.5 + (units - 100) * 6\n",
    "elif (units>200 and units<=300):\n",
    "    bill = 100 * 4.5 + 100 * 6 + (units-200) * 10\n",
    "else :\n",
    "    bill = 100 * 4.5 + 100 * 6 + 100 * 10 + (units-300)*20\n",
    "    # units = 310\n",
    "    # units2 = units // 100\n",
    "    # units4 = units2 * 100 \n",
    "    # units3 = units % 100\n",
    "    \n",
    "print('Total bill : ',bill)"
   ]
  },
  {
   "cell_type": "code",
   "execution_count": 33,
   "id": "923e4887-843d-465e-a9dc-3f706b4a0951",
   "metadata": {},
   "outputs": [
    {
     "name": "stdout",
     "output_type": "stream",
     "text": [
      "cubes : \n",
      " [0, 1, 8, 27, 64, 125, 216, 343, 512, 729, 1000, 1331, 1728, 2197, 2744, 3375, 4096, 4913, 5832, 6859, 8000, 9261, 10648, 12167, 13824, 15625, 17576, 19683, 21952, 24389, 27000, 29791, 32768, 35937, 39304, 42875, 46656, 50653, 54872, 59319, 64000, 68921, 74088, 79507, 85184, 91125, 97336, 103823, 110592, 117649, 125000, 132651, 140608, 148877, 157464, 166375, 175616, 185193, 195112, 205379, 216000, 226981, 238328, 250047, 262144, 274625, 287496, 300763, 314432, 328509, 343000, 357911, 373248, 389017, 405224, 421875, 438976, 456533, 474552, 493039, 512000, 531441, 551368, 571787, 592704, 614125, 636056, 658503, 681472, 704969, 729000, 753571, 778688, 804357, 830584, 857375, 884736, 912673, 941192, 970299, 1000000] \n",
      "\n",
      "divisible cubes : \n",
      " [0, 8, 64, 125, 216, 512, 1000, 1728, 2744, 3375, 4096, 5832, 8000, 10648, 13824, 15625, 17576, 21952, 27000, 32768, 39304, 42875, 46656, 54872, 64000, 74088, 85184, 91125, 97336, 110592, 125000, 140608, 157464, 166375, 175616, 195112, 216000, 238328, 262144, 274625, 287496, 314432, 343000, 373248, 405224, 421875, 438976, 474552, 512000, 551368, 592704, 614125, 636056, 681472, 729000, 778688, 830584, 857375, 884736, 941192, 1000000]\n"
     ]
    }
   ],
   "source": [
    "# Q4. Create a list of numbers from 1 to 100. Use for loop and while loop to calculate the cube of each number and if the cube of that number is divisible by 4 or 5 then append that number in a list and print that list.\n",
    "\n",
    "cubes = []\n",
    "divisible_cubes = []\n",
    "for i in list(range(0,101)):\n",
    "    cubes.append(i**3)\n",
    "for o in cubes:\n",
    "    if (o % 4 == 0 or o % 5 ==0):\n",
    "        divisible_cubes.append(o)\n",
    "print('cubes :','\\n',cubes,'\\n')\n",
    "print('divisible cubes :','\\n',divisible_cubes)"
   ]
  },
  {
   "cell_type": "code",
   "execution_count": 56,
   "id": "cf3c5e4f-07f3-42d1-9597-9a280c5dd93a",
   "metadata": {},
   "outputs": [
    {
     "name": "stdout",
     "output_type": "stream",
     "text": [
      "['I', 'a', 'o', 'e', 'o', 'e', 'a', 'a', 'a', 'i', 'e', 'i']\n",
      "total vowels :  12\n"
     ]
    }
   ],
   "source": [
    "# Q5. Write a program to filter count vowels in the below-given string. string = \"I want to become a data scientist\"\n",
    "string = \"I want to become a data scientist\"\n",
    "vowels = ['A','E','I','O','U','a','e','i','o','u']\n",
    "string_vowels = []\n",
    "for i in string:\n",
    "    for o in vowels:\n",
    "        if i == o:\n",
    "            # print(o,'\\n',end = '')\n",
    "            # print(i)\n",
    "            string_vowels.append(i)\n",
    "print(string_vowels)\n",
    "print('total vowels : ',len(string_vowels))\n",
    "            # print(type(string_vowels))\n",
    "            # string_vowels = string_vowels.append(o)\n",
    "            # print(string_vowels)\n",
    "            # print(string_vowels.count())"
   ]
  },
  {
   "cell_type": "code",
   "execution_count": null,
   "id": "70a154b9-1d4c-4820-8e51-ced299078201",
   "metadata": {},
   "outputs": [],
   "source": []
  },
  {
   "cell_type": "code",
   "execution_count": null,
   "id": "59eab881-fba0-486b-b712-1441fe284a2c",
   "metadata": {},
   "outputs": [],
   "source": []
  }
 ],
 "metadata": {
  "kernelspec": {
   "display_name": "Python 3 (ipykernel)",
   "language": "python",
   "name": "python3"
  },
  "language_info": {
   "codemirror_mode": {
    "name": "ipython",
    "version": 3
   },
   "file_extension": ".py",
   "mimetype": "text/x-python",
   "name": "python",
   "nbconvert_exporter": "python",
   "pygments_lexer": "ipython3",
   "version": "3.10.8"
  }
 },
 "nbformat": 4,
 "nbformat_minor": 5
}
