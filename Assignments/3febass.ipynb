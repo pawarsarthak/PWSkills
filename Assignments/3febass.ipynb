{
 "cells": [
  {
   "cell_type": "markdown",
   "id": "ca60693b-698c-4da9-beba-251bbccc363f",
   "metadata": {},
   "source": [
    "Q1. Which keyword is used to create a function?"
   ]
  },
  {
   "cell_type": "markdown",
   "id": "9afee021-f46c-4368-9e54-bcf5cc73ea42",
   "metadata": {},
   "source": [
    "The keyword def is used to create a function in Python."
   ]
  },
  {
   "cell_type": "markdown",
   "id": "439c655d-b75e-4165-b952-9570c62b7c69",
   "metadata": {},
   "source": [
    "Q2. Why are *args and kwargs used in some functions?"
   ]
  },
  {
   "cell_type": "markdown",
   "id": "138443a7-186c-4c58-b897-34370b5352fc",
   "metadata": {},
   "source": [
    "*args is used to pass a variable number of positional arguments to a function.\n",
    "**kwargs is used to pass a variable number of keyword arguments to a function."
   ]
  },
  {
   "cell_type": "markdown",
   "id": "d8800e87-c853-4891-8f0b-60c14d1d57bd",
   "metadata": {},
   "source": [
    "Q3. What is an iterator in Python?"
   ]
  },
  {
   "cell_type": "markdown",
   "id": "e9368fd7-1cb3-4eef-ae27-0f823fde3bd0",
   "metadata": {},
   "source": [
    "An iterator is an object that allows traversal through all the elements of a collection (e.g., list, tuple).\n",
    "Methods used:\n",
    "iter(): Initializes an iterator object.\n",
    "next(): Fetches the next element in the sequence.\n"
   ]
  },
  {
   "cell_type": "markdown",
   "id": "398c5e64-5e49-4bfe-b207-3e40bdda7ddb",
   "metadata": {},
   "source": [
    "Q4. What is a generator function in Python?"
   ]
  },
  {
   "cell_type": "markdown",
   "id": "802053cf-d88a-4c8b-ac2d-6b602d727dc0",
   "metadata": {},
   "source": [
    "A generator function is a function that returns an iterator and produces values one at a time using the yield keyword.\n",
    "Why yield is used?\n",
    "yield is used to produce a value and pause the function’s execution, resuming later from where it was paused."
   ]
  },
  {
   "cell_type": "markdown",
   "id": "6bd79a95-e5d3-4bdf-8562-18520d51115c",
   "metadata": {},
   "source": [
    "Q5. Create a generator function for prime numbers less than 1000."
   ]
  },
  {
   "cell_type": "code",
   "execution_count": 2,
   "id": "ba487e08-2504-447a-be64-474408fc3f6b",
   "metadata": {},
   "outputs": [
    {
     "name": "stdout",
     "output_type": "stream",
     "text": [
      "2\n",
      "3\n",
      "5\n",
      "7\n",
      "11\n",
      "13\n",
      "17\n",
      "19\n",
      "23\n",
      "29\n",
      "31\n",
      "37\n",
      "41\n",
      "43\n",
      "47\n",
      "53\n",
      "59\n",
      "61\n",
      "67\n",
      "71\n"
     ]
    }
   ],
   "source": [
    "# Generator for prime numbers less than 1000\n",
    "def prime_numbers():\n",
    "    for num in range(2, 1000):\n",
    "        if all(num % i != 0 for i in range(2, int(num**0.5) + 1)):\n",
    "            yield num\n",
    "\n",
    "# Using next() to get the first 20 prime numbers\n",
    "prime_gen = prime_numbers()\n",
    "for _ in range(20):\n",
    "    print(next(prime_gen))"
   ]
  },
  {
   "cell_type": "code",
   "execution_count": null,
   "id": "4215c881-12de-4713-8922-b360531ecce5",
   "metadata": {},
   "outputs": [],
   "source": []
  }
 ],
 "metadata": {
  "kernelspec": {
   "display_name": "Python 3 (ipykernel)",
   "language": "python",
   "name": "python3"
  },
  "language_info": {
   "codemirror_mode": {
    "name": "ipython",
    "version": 3
   },
   "file_extension": ".py",
   "mimetype": "text/x-python",
   "name": "python",
   "nbconvert_exporter": "python",
   "pygments_lexer": "ipython3",
   "version": "3.12.7"
  }
 },
 "nbformat": 4,
 "nbformat_minor": 5
}
