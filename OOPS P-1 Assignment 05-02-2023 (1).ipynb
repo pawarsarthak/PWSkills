{
 "cells": [
  {
   "cell_type": "markdown",
   "id": "de6f2709-e3ed-4fca-9b65-0d9d8daba869",
   "metadata": {},
   "source": [
    "OOPS 05-02-2023 Assignment"
   ]
  },
  {
   "cell_type": "markdown",
   "id": "69f787f0-1b6a-4d92-8702-e314bfaae56d",
   "metadata": {},
   "source": [
    "--------------------------------------------------------------------------------------------------------------------------------------------------"
   ]
  },
  {
   "cell_type": "code",
   "execution_count": 4,
   "id": "b53717b0-6e1d-4c2c-bd59-45f2c676da5b",
   "metadata": {},
   "outputs": [],
   "source": [
    "# Q1. Explain Class and Object with respect to Object-Oriented Programming. Give a suitable example.\n",
    "# Ans: \n",
    "#     1. Class : CLass is a blueprint for objects / functions. class can give custom type to code and it consists of several objects or functions in it. It makes code more structured and reusable.\n",
    "    \n",
    "#     2. Object : Object is instance or sub-file present and linked with class.\n",
    "    \n",
    "#     Ex. Subjects is a class and in that subject class there is subjects like C,Python,HTML,Java etc. We can write code according to object in class and it can be use by programmers related to that subject."
   ]
  },
  {
   "cell_type": "markdown",
   "id": "a1b9162b-e6a6-4c6c-86a2-bdfcc6e4387e",
   "metadata": {},
   "source": [
    "--------------------------------------------------------------------------------------------------------------------------------------------------"
   ]
  },
  {
   "cell_type": "code",
   "execution_count": 5,
   "id": "e542f821-a15c-448d-a974-ef4a84fbf187",
   "metadata": {},
   "outputs": [],
   "source": [
    "# Q2. Name the four pillars of OOPs.\n",
    "# Ans: \n",
    "#     1. Inheritance\n",
    "#     2. Encapsulation\n",
    "#     3. Encapsulation\n",
    "#     4. Abstraction"
   ]
  },
  {
   "cell_type": "markdown",
   "id": "3983adcf-2c6c-4304-8390-b20f8e071e45",
   "metadata": {},
   "source": [
    "--------------------------------------------------------------------------------------------------------------------------------------------------"
   ]
  },
  {
   "cell_type": "code",
   "execution_count": 6,
   "id": "9caedd97-8e7e-4220-ae02-6fa7474fde07",
   "metadata": {},
   "outputs": [],
   "source": [
    "# Q3. Explain why the __init__() function is used. Give a suitable example.\n",
    "# Ans:\n",
    "#     __init__() is a constructor which initializes attribute of class. it is used to take data as input.\n",
    "    \n",
    "#     Ex. Suppose we have created a class for marks of strudents for different subjects. Suppose we have created functions for each subject, then we can give __init__() for taking marks."
   ]
  },
  {
   "cell_type": "markdown",
   "id": "0eef2713-a1ea-479b-bec0-c543222a5b78",
   "metadata": {},
   "source": [
    "--------------------------------------------------------------------------------------------------------------------------------------------------"
   ]
  },
  {
   "cell_type": "code",
   "execution_count": 7,
   "id": "c1dc7554-b8cb-448e-bdc4-f4e9359504f9",
   "metadata": {},
   "outputs": [],
   "source": [
    "# Q4. Why self is used in OOPs?\n",
    "# Ans: \n",
    "#     self is used to link that object with class. insted of self we can use any word like our name or word related to class or object. \n",
    "#     Though we have created functions / obj under class but we need to give self near of attributes also in object like self.phone_number"
   ]
  },
  {
   "cell_type": "markdown",
   "id": "d7e8734d-fb28-4414-ae0f-ec89dc571852",
   "metadata": {},
   "source": [
    "--------------------------------------------------------------------------------------------------------------------------------------------------"
   ]
  },
  {
   "cell_type": "code",
   "execution_count": 8,
   "id": "36e19a60-a1ac-4085-b5b9-f15a47239fe8",
   "metadata": {},
   "outputs": [],
   "source": [
    "# Q5. What is inheritance? Give an example for each type of inheritance.\n",
    "# Ans: \n",
    "#     Inheritance means giving functionality of one classe to another class like a child have qualities of his father.\n",
    "    \n",
    "#     Types of Inheritance in OOPS : \n",
    "#     1.Single Inheritance.\n",
    "#     - Ex. In Single inheritance functionality of parent class is given to child class\n",
    "#     2.Multiple Inheritance.\n",
    "#     - Ex. In Multiple Inheritance One child class is using functionality of 2 or 2+  classes\n",
    "#     3.Multilevel Inheritance.\n",
    "#     - Ex. In multilevel inheritance one class after one taking functionality of classes 1 by 1\n",
    "#     4.Hierarchical Inheritance.\n",
    "#     - Single class can be used by multiple child class in Hierarchical inheritance\n",
    "#     5.Hybrid Inheritance.\n",
    "#     - When Multiple Inheritance is present is one child class then hybrid inheritance helps to utilize all the parent class's functionality best."
   ]
  },
  {
   "cell_type": "markdown",
   "id": "0c81e512-3451-4096-b048-c5557a0f1933",
   "metadata": {},
   "source": [
    "-------------------------------------------------------------------------------------------------------------------------------------------"
   ]
  },
  {
   "cell_type": "code",
   "execution_count": 9,
   "id": "958bd715-896d-435c-a630-3b3709c46e73",
   "metadata": {},
   "outputs": [],
   "source": [
    "# Raw rows was not able to see in github therefore answers wrote in comment"
   ]
  },
  {
   "cell_type": "code",
   "execution_count": null,
   "id": "70503703-c629-4847-a3c3-fb67d6f0ecfd",
   "metadata": {},
   "outputs": [],
   "source": []
  }
 ],
 "metadata": {
  "kernelspec": {
   "display_name": "Python 3 (ipykernel)",
   "language": "python",
   "name": "python3"
  },
  "language_info": {
   "codemirror_mode": {
    "name": "ipython",
    "version": 3
   },
   "file_extension": ".py",
   "mimetype": "text/x-python",
   "name": "python",
   "nbconvert_exporter": "python",
   "pygments_lexer": "ipython3",
   "version": "3.10.8"
  }
 },
 "nbformat": 4,
 "nbformat_minor": 5
}
