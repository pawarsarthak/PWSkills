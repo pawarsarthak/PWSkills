{
 "cells": [
  {
   "cell_type": "markdown",
   "id": "de6f2709-e3ed-4fca-9b65-0d9d8daba869",
   "metadata": {},
   "source": [
    "OOPS 05-02-2023 Assignment"
   ]
  },
  {
   "cell_type": "raw",
   "id": "d1939ea0-662d-48cf-9c75-cc32c8d8e542",
   "metadata": {},
   "source": [
    "Q1. Explain Class and Object with respect to Object-Oriented Programming. Give a suitable example.\n",
    "Ans: \n",
    "    1. Class : CLass is a blueprint for objects / functions. class can give custom type to code and it consists of several objects or functions in it. It makes code more structured and reusable.\n",
    "    \n",
    "    2. Object : Object is instance or sub-file present and linked with class.\n",
    "    \n",
    "    Ex. Subjects is a class and in that subject class there is subjects like C,Python,HTML,Java etc. We can write code according to object in class and it can be use by programmers related to that subject."
   ]
  },
  {
   "cell_type": "raw",
   "id": "8b4b9c6c-f033-4909-90d9-e9064ccecf15",
   "metadata": {},
   "source": [
    "Q2. Name the four pillars of OOPs.\n",
    "Ans: \n",
    "    1. Inheritance\n",
    "    2. Encapsulation\n",
    "    3. Encapsulation\n",
    "    4. Abstraction"
   ]
  },
  {
   "cell_type": "raw",
   "id": "8e42ea49-22b8-4dee-81f6-ac1ec237d0d5",
   "metadata": {},
   "source": [
    "Q3. Explain why the __init__() function is used. Give a suitable example.\n",
    "Ans:\n",
    "    __init__() is a constructor which initializes attribute of class. it is used to take data as input.\n",
    "    \n",
    "    Ex. Suppose we have created a class for marks of strudents for different subjects. Suppose we have created functions for each subject, then we can give __init__() for taking marks."
   ]
  },
  {
   "cell_type": "raw",
   "id": "38cc3618-0d8b-4208-ba52-65f36dd4ee88",
   "metadata": {},
   "source": [
    "Q4. Why self is used in OOPs?\n",
    "Ans: \n",
    "    self is used to link that object with class. insted of self we can use any word like our name or word related to class or object. Though we have created functions / obj under class but we need to give self near of attributes also in object like self.phone_number"
   ]
  },
  {
   "cell_type": "raw",
   "id": "288b8833-0c99-4754-867f-71637b1f9500",
   "metadata": {},
   "source": [
    "Q5. What is inheritance? Give an example for each type of inheritance.\n",
    "Ans: \n",
    "    Inheritance means giving functionality of one classe to another class like a child have qualities of his father.\n",
    "    \n",
    "    Types of Inheritance in OOPS : \n",
    "    1.Single Inheritance.\n",
    "    - Ex. In Single inheritance functionality of parent class is given to child class\n",
    "    2.Multiple Inheritance.\n",
    "    - Ex. In Multiple Inheritance One child class is using functionality of 2 or 2+  classes\n",
    "    3.Multilevel Inheritance.\n",
    "    - Ex. In multilevel inheritance one class after one taking functionality of classes 1 by 1\n",
    "    4.Hierarchical Inheritance.\n",
    "    - Single class can be used by multiple child class in Hierarchical inheritance\n",
    "    5.Hybrid Inheritance.\n",
    "    - When Multiple Inheritance is present is one child class then hybrid inheritance helps to utilize all the parent class's functionality best.\n",
    "    "
   ]
  },
  {
   "cell_type": "code",
   "execution_count": null,
   "id": "99e78530-cc6c-45f4-a11b-4b17ffe03596",
   "metadata": {},
   "outputs": [],
   "source": []
  }
 ],
 "metadata": {
  "kernelspec": {
   "display_name": "Python 3 (ipykernel)",
   "language": "python",
   "name": "python3"
  },
  "language_info": {
   "codemirror_mode": {
    "name": "ipython",
    "version": 3
   },
   "file_extension": ".py",
   "mimetype": "text/x-python",
   "name": "python",
   "nbconvert_exporter": "python",
   "pygments_lexer": "ipython3",
   "version": "3.10.8"
  }
 },
 "nbformat": 4,
 "nbformat_minor": 5
}
